{
 "cells": [
  {
   "cell_type": "code",
   "execution_count": 1,
   "id": "9b5fcf49",
   "metadata": {},
   "outputs": [
    {
     "name": "stdout",
     "output_type": "stream",
     "text": [
      "-----Augustus-----\n",
      "Reign length = 41\n",
      "Lifespan = 77\n",
      "Emperor's life in power = 53.25%\n",
      "-----Tiberius-----\n",
      "Reign length = 23\n",
      "Lifespan = 79\n",
      "Emperor's life in power = 29.11%\n",
      "-----Caligula-----\n",
      "Reign length = 4\n",
      "Lifespan = 29\n",
      "Emperor's life in power = 13.79%\n",
      "-----Claudius-----\n",
      "Reign length = 13\n",
      "Lifespan = 64\n",
      "Emperor's life in power = 20.31%\n",
      "-----Nero-----\n",
      "Reign length = 14\n",
      "Lifespan = 31\n",
      "Emperor's life in power = 45.16%\n"
     ]
    }
   ],
   "source": [
    "# exercise 2.1, 2.2, 2.9\n",
    "for line in open(\"emperors.txt\"):\n",
    "    line = line.split(',')\n",
    "    name = line[0]\n",
    "    print(f\"-----{name}-----\")\n",
    "    birth_year = int(line[1])\n",
    "    death_year = int(line[2])\n",
    "    start_of_reign = int(line[3])\n",
    "    end_of_reign = int(line[4])\n",
    "    life = death_year - birth_year\n",
    "    power = end_of_reign - start_of_reign\n",
    "    print(f\"Reign length = {power}\")\n",
    "    print(f\"Lifespan = {life}\")\n",
    "    print(f\"Emperor's life in power = {power/life * 100:.2f}%\")"
   ]
  },
  {
   "cell_type": "code",
   "execution_count": 2,
   "id": "c6748a3f",
   "metadata": {},
   "outputs": [
    {
     "name": "stdout",
     "output_type": "stream",
     "text": [
      "0\n"
     ]
    }
   ],
   "source": [
    "# exercise 2.4\n",
    "import numpy as np\n",
    "nums = []\n",
    "for i in range(5000):\n",
    "    nums.append(np.random.randint(0, 1001))\n",
    "\n",
    "# with open('nums.txt', 'w+') as f:\n",
    "#     for num in nums:\n",
    "#         f.write('%s\\n'%num)\n",
    "\n",
    "print(sorted(nums)[0])"
   ]
  },
  {
   "cell_type": "code",
   "execution_count": 4,
   "id": "c0463664",
   "metadata": {},
   "outputs": [
    {
     "ename": "TypeError",
     "evalue": "unsupported operand type(s) for +: 'int' and 'str'",
     "output_type": "error",
     "traceback": [
      "\u001b[0;31m---------------------------------------------------------------------------\u001b[0m",
      "\u001b[0;31mTypeError\u001b[0m                                 Traceback (most recent call last)",
      "Input \u001b[0;32mIn [4]\u001b[0m, in \u001b[0;36m<cell line: 4>\u001b[0;34m()\u001b[0m\n\u001b[1;32m      4\u001b[0m \u001b[38;5;28;01mfor\u001b[39;00m line \u001b[38;5;129;01min\u001b[39;00m \u001b[38;5;28mopen\u001b[39m(\u001b[38;5;124m'\u001b[39m\u001b[38;5;124mnums.txt\u001b[39m\u001b[38;5;124m'\u001b[39m):\n\u001b[1;32m      5\u001b[0m     number \u001b[38;5;241m=\u001b[39m line\n\u001b[0;32m----> 6\u001b[0m     gatherer \u001b[38;5;241m=\u001b[39m \u001b[43mgatherer\u001b[49m\u001b[43m \u001b[49m\u001b[38;5;241;43m+\u001b[39;49m\u001b[43m \u001b[49m\u001b[43mnumber\u001b[49m\n\u001b[1;32m      7\u001b[0m     count \u001b[38;5;241m+\u001b[39m\u001b[38;5;241m=\u001b[39m \u001b[38;5;241m1\u001b[39m\n\u001b[1;32m      9\u001b[0m avg \u001b[38;5;241m=\u001b[39m gatherer \u001b[38;5;241m/\u001b[39m count\n",
      "\u001b[0;31mTypeError\u001b[0m: unsupported operand type(s) for +: 'int' and 'str'"
     ]
    }
   ],
   "source": [
    "# exercise 2.5\n",
    "gatherer = 0\n",
    "count = 0\n",
    "for line in open('example.txt'):\n",
    "    number = line\n",
    "    gatherer = gatherer + number\n",
    "    count += 1\n",
    "    \n",
    "avg = gatherer / count\n",
    "print(f\"The average of the number is {avg}\")"
   ]
  },
  {
   "cell_type": "code",
   "execution_count": 5,
   "id": "6cd64e28",
   "metadata": {},
   "outputs": [
    {
     "name": "stdout",
     "output_type": "stream",
     "text": [
      "504.5858\n"
     ]
    }
   ],
   "source": [
    "# 2.6\n",
    "# exercise 2.4\n",
    "nums = []\n",
    "for i in range(5000):\n",
    "    nums.append(np.random.randint(0, 1001))\n",
    "suum = 0\n",
    "for num in nums:\n",
    "    suum += num\n",
    "print(suum/len(nums))"
   ]
  },
  {
   "cell_type": "code",
   "execution_count": 7,
   "id": "8bffb749",
   "metadata": {},
   "outputs": [
    {
     "name": "stdout",
     "output_type": "stream",
     "text": [
      "13\n",
      "7\n",
      "30\n",
      "3.3333333333333335\n",
      "1000\n",
      "1\n",
      "3\n",
      "10\n",
      "heeEey world!\n",
      "eeE\n",
      "['h', '', 'E', 'y']\n",
      "h\n",
      "heeeey\n",
      "6\n",
      "False\n",
      "10.0\n",
      "10\n"
     ]
    }
   ],
   "source": [
    "# 2.8\n",
    "a = 10\n",
    "b = 3\n",
    "print(a+b)\n",
    "print(a-b)\n",
    "print(a*b)\n",
    "print(a/b)\n",
    "print(a**b)\n",
    "print(a%b)\n",
    "print(a//b)\n",
    "print(abs(a))\n",
    "\n",
    "a = 'heeEey'\n",
    "b = 'world!'\n",
    "print(a + \" \" + b)\n",
    "print(a[1:4])\n",
    "print(a.split('e'))\n",
    "print(a.split('e')[0])\n",
    "print(a.lower())\n",
    "print(len(a))\n",
    "print('el' in a)\n",
    "\n",
    "text = '10'\n",
    "number = 10\n",
    "print(float(text))\n",
    "print(str(number))"
   ]
  },
  {
   "cell_type": "code",
   "execution_count": 8,
   "id": "027ebf45",
   "metadata": {},
   "outputs": [
    {
     "name": "stdout",
     "output_type": "stream",
     "text": [
      "30\n"
     ]
    }
   ],
   "source": [
    "# 2.10\n",
    "print(2022-1992)"
   ]
  },
  {
   "cell_type": "code",
   "execution_count": 9,
   "id": "edefe344",
   "metadata": {},
   "outputs": [
    {
     "name": "stdout",
     "output_type": "stream",
     "text": [
      "3333.3333333333335\n"
     ]
    }
   ],
   "source": [
    "# 2.11\n",
    "print(250000/75)"
   ]
  },
  {
   "cell_type": "code",
   "execution_count": 11,
   "id": "ef90b903",
   "metadata": {},
   "outputs": [
    {
     "name": "stdout",
     "output_type": "stream",
     "text": [
      "CODING SOCIAL SCIENCE IS FUN\n",
      "coding social science is fun\n"
     ]
    }
   ],
   "source": [
    "#2.13\n",
    "var = 'Coding Social Science is fun'\n",
    "print(var.upper())\n",
    "print(var.lower())"
   ]
  },
  {
   "cell_type": "code",
   "execution_count": 22,
   "id": "cbf51777",
   "metadata": {},
   "outputs": [
    {
     "name": "stdout",
     "output_type": "stream",
     "text": [
      "1 2 3 4 5 ---\n",
      "1 2 3 4 5 6 7 8 9 10 11 12 13 14 15 16 17 18 19 20 21 22 23 24 25 26 27 28 29 30 31 32 33 34 35 36 37 38 39 40 41 42 43 44 45 46 47 48 49 50 ---\n",
      "1 2 3 4 5 6 7 8 9 10 11 12 13 14 15 16 17 18 19 20 21 22 23 24 25 26 27 28 29 30 31 32 33 34 35 36 37 38 39 40 41 42 43 44 45 46 47 48 49 50 51 52 53 54 55 56 57 58 59 60 61 62 63 64 65 66 67 68 69 70 71 72 73 74 75 76 77 78 79 80 81 82 83 84 85 86 87 88 89 90 91 92 93 94 95 96 97 98 99 100 ---\n",
      "50 51 52 53 54 55 56 57 58 59 60 61 62 63 64 65 66 67 68 69 70 71 72 73 74 75 76 77 78 79 80 81 82 83 84 85 86 87 88 89 90 91 92 93 94 95 96 97 98 99 100 ---\n"
     ]
    }
   ],
   "source": [
    "# 2.14\n",
    "ranges = [(1, 5), (1, 50), (1, 100), (50, 100)]\n",
    "for (st, ed) in ranges:\n",
    "    for num in range(st, ed+1):\n",
    "        print(num, end=' ')\n",
    "    print('---')\n"
   ]
  },
  {
   "cell_type": "code",
   "execution_count": 26,
   "id": "8128b0d4",
   "metadata": {},
   "outputs": [
    {
     "name": "stdout",
     "output_type": "stream",
     "text": [
      "1\n",
      "2\n",
      "fizz\n",
      "4\n",
      "buzz\n",
      "fizz\n",
      "7\n",
      "8\n",
      "fizz\n",
      "buzz\n",
      "11\n",
      "fizz\n",
      "13\n",
      "14\n",
      "fizzbuzz\n",
      "16\n",
      "17\n",
      "fizz\n",
      "19\n",
      "buzz\n",
      "fizz\n",
      "22\n",
      "23\n",
      "fizz\n",
      "buzz\n",
      "26\n",
      "fizz\n",
      "28\n",
      "29\n",
      "fizzbuzz\n",
      "31\n",
      "32\n",
      "fizz\n",
      "34\n",
      "buzz\n",
      "fizz\n",
      "37\n",
      "38\n",
      "fizz\n",
      "buzz\n",
      "41\n",
      "fizz\n",
      "43\n",
      "44\n",
      "fizzbuzz\n",
      "46\n",
      "47\n",
      "fizz\n",
      "49\n",
      "buzz\n",
      "fizz\n",
      "52\n",
      "53\n",
      "fizz\n",
      "buzz\n",
      "56\n",
      "fizz\n",
      "58\n",
      "59\n",
      "fizzbuzz\n",
      "61\n",
      "62\n",
      "fizz\n",
      "64\n",
      "buzz\n",
      "fizz\n",
      "67\n",
      "68\n",
      "fizz\n",
      "buzz\n",
      "71\n",
      "fizz\n",
      "73\n",
      "74\n",
      "fizzbuzz\n",
      "76\n",
      "77\n",
      "fizz\n",
      "79\n",
      "buzz\n",
      "fizz\n",
      "82\n",
      "83\n",
      "fizz\n",
      "buzz\n",
      "86\n",
      "fizz\n",
      "88\n",
      "89\n",
      "fizzbuzz\n",
      "91\n",
      "92\n",
      "fizz\n",
      "94\n",
      "buzz\n",
      "fizz\n",
      "97\n",
      "98\n",
      "fizz\n",
      "buzz\n"
     ]
    }
   ],
   "source": [
    "#2.17\n",
    "for num in range(1, 101):\n",
    "    if num % 3 == 0 and num % 5 == 0:\n",
    "        print('fizzbuzz')\n",
    "    elif num % 3 == 0:\n",
    "        print('fizz')\n",
    "    elif num % 5 == 0:\n",
    "        print('buzz')\n",
    "    else:\n",
    "        print(num)"
   ]
  },
  {
   "cell_type": "code",
   "execution_count": 52,
   "id": "a7d80318",
   "metadata": {},
   "outputs": [
    {
     "name": "stdout",
     "output_type": "stream",
     "text": [
      "1904\n",
      "1908\n",
      "1912\n",
      "1916\n",
      "1920\n",
      "1924\n",
      "1928\n",
      "1932\n",
      "1936\n",
      "1940\n",
      "1944\n",
      "1948\n",
      "1952\n",
      "1956\n",
      "1960\n",
      "1964\n",
      "1968\n",
      "1972\n",
      "1976\n",
      "1980\n",
      "1984\n",
      "1988\n",
      "1992\n",
      "1996\n",
      "2000\n",
      "2004\n",
      "2008\n",
      "2012\n",
      "2016\n",
      "2020\n",
      "2024\n",
      "2028\n",
      "2032\n",
      "2036\n",
      "2040\n",
      "2044\n",
      "2048\n"
     ]
    }
   ],
   "source": [
    "#2.18, 8.5\n",
    "def if_leap_year(year):\n",
    "    if year%100 == 0:\n",
    "        if year%400 == 0:\n",
    "            #print('leap year!!!')\n",
    "            return True\n",
    "\n",
    "    elif year%4 == 0:\n",
    "        #print('leap year!!!!!')\n",
    "        return True\n",
    "    \n",
    "    #print('no!')\n",
    "    return False\n",
    "        \n",
    "if_leap_year(1999)\n",
    "if_leap_year(2000)\n",
    "if_leap_year(1900)\n",
    "\n",
    "#2.19\n",
    "for year in range(1900, 2051):\n",
    "    hmm = if_leap_year(year)\n",
    "    if hmm:\n",
    "        print(year)"
   ]
  },
  {
   "cell_type": "code",
   "execution_count": null,
   "id": "66148c91",
   "metadata": {},
   "outputs": [],
   "source": [
    "#2.22\n",
    "flag = False\n",
    "looking_for = 42\n",
    "for line in open('example.txt'):\n",
    "    num = line\n",
    "    if num == looking_for:\n",
    "        flag = True\n",
    "if flag:\n",
    "    print(f'The file contains the value {looking_for}')\n",
    "else:\n",
    "    print(f'The file does not contain the value {looking_for}')\n"
   ]
  },
  {
   "cell_type": "code",
   "execution_count": 36,
   "id": "2a2826ed",
   "metadata": {},
   "outputs": [
    {
     "data": {
      "text/plain": [
       "2.0"
      ]
     },
     "execution_count": 36,
     "metadata": {},
     "output_type": "execute_result"
    }
   ],
   "source": [
    "a = [1,2,3]\n",
    "sum(a)/len(a)"
   ]
  },
  {
   "cell_type": "code",
   "execution_count": 39,
   "id": "547b93b3",
   "metadata": {},
   "outputs": [
    {
     "name": "stdout",
     "output_type": "stream",
     "text": [
      "Average votes for candidates born after 1980 = 395587.0\n"
     ]
    }
   ],
   "source": [
    "#2.34\n",
    "old = []\n",
    "young = []\n",
    "for line in open('election.txt'):\n",
    "    votes = int(line.split(',')[2])\n",
    "    born = int(line.split(',')[3])\n",
    "    if born <= 1980:\n",
    "        old.append(votes)\n",
    "    else:\n",
    "        young.append(votes)\n",
    "if young:\n",
    "    print(f'Average votes for candidates born after 1980 = {sum(young)/len(young)}')\n",
    "if old:\n",
    "    print(f'Average votes for candidates born before 1980 = {sum(old)/len(old)}')"
   ]
  },
  {
   "cell_type": "code",
   "execution_count": 40,
   "id": "83ab7a88",
   "metadata": {},
   "outputs": [
    {
     "name": "stdout",
     "output_type": "stream",
     "text": [
      "25\n",
      "35\n",
      "45\n"
     ]
    }
   ],
   "source": [
    "# 5.1\n",
    "ages = [25, 35, 45]\n",
    "age1 = ages[0]\n",
    "age2 = ages[1]\n",
    "age3 = ages[2]\n",
    "for age in ages: print(age)"
   ]
  },
  {
   "cell_type": "code",
   "execution_count": 41,
   "id": "594640fb",
   "metadata": {},
   "outputs": [
    {
     "name": "stdout",
     "output_type": "stream",
     "text": [
      "Say hello to Cat\n",
      "Cat says: Hi\n",
      "Say hello to Dog\n",
      "Dog says: Hi\n",
      "Say hello to 3.1415\n",
      "3.1415 says: Hi\n",
      "Say hello to Pie\n",
      "Pie says: Hi\n",
      "Say hello to cw\n",
      "cw says: Hi\n"
     ]
    }
   ],
   "source": [
    "# 5.2\n",
    "names = ['Cat', 'Dog', 3.1415, 'Pie']\n",
    "names.append('cw')\n",
    "for name in names:\n",
    "    print(f'Say hello to {name}')\n",
    "    print(f'{name} says: Hi')\n"
   ]
  },
  {
   "cell_type": "code",
   "execution_count": null,
   "id": "d63e645b",
   "metadata": {},
   "outputs": [],
   "source": [
    "# 5.3\n",
    "a = []\n",
    "a.append(25)\n",
    "print(a[0])\n",
    "print(25 in a)\n",
    "a.remove(25)\n",
    "a.append(25)\n",
    "del a[0]\n",
    "print(len(a))"
   ]
  },
  {
   "cell_type": "code",
   "execution_count": null,
   "id": "994ff88e",
   "metadata": {},
   "outputs": [],
   "source": [
    "# 5.4\n",
    "nums = [45, 10, 50, 200]\n",
    "    \n",
    "for item in nums:\n",
    "    times_two = item*2\n",
    "    print(times_two)"
   ]
  },
  {
   "cell_type": "code",
   "execution_count": null,
   "id": "a3b100d5",
   "metadata": {},
   "outputs": [],
   "source": [
    "# 5.7\n",
    "print(sum(nums)/len(nums))"
   ]
  },
  {
   "cell_type": "code",
   "execution_count": null,
   "id": "a219909d",
   "metadata": {},
   "outputs": [],
   "source": [
    "# 5.8\n",
    "ages = {'person1':25, 'person2':35, 'person3':45}\n",
    "\n",
    "# 5.9\n",
    "a = {}\n",
    "a['person1'] = 25\n",
    "print(a['person1'])\n",
    "print(a.keys())\n",
    "print(a.values())\n",
    "print('person4' in a)\n",
    "print(25 in a.values())\n",
    "del(a['person1'])\n",
    "print(len(a))"
   ]
  },
  {
   "cell_type": "code",
   "execution_count": null,
   "id": "c7b5f814",
   "metadata": {},
   "outputs": [],
   "source": [
    "# 5.10\n",
    "eng_to_fin = dict()\n",
    "eng_to_fin['i'] = 'min ̈'\n",
    "eng_to_fin['you'] = 'sin ̈'\n",
    "eng_to_fin['social'] = 'sosiaalinen'\n",
    "eng_to_fin['science'] = 'tiede'\n",
    "eng_to_fin['needs'] = 'tarvitsee'\n",
    "eng_to_fin['programming'] = 'ohjelmointi'\n",
    "eng_to_fin['skills'] = 'taidot'\n",
    "sent_to_translate = 'social science needs programming skills'\n",
    "translated_sent = ''\n",
    "for word in sent_to_translate.split(' '):\n",
    "    translated_word = eng_to_fin[word]\n",
    "    translated_sent += ' ' + translated_word\n",
    "print(f'{sent_to_translate} in Finnish is {translated_sent.strip()}')"
   ]
  },
  {
   "cell_type": "code",
   "execution_count": 46,
   "id": "1fcac7bb",
   "metadata": {},
   "outputs": [
    {
     "name": "stdout",
     "output_type": "stream",
     "text": [
      "*****\n",
      "Testing my fancy_print function\n",
      "*****\n"
     ]
    }
   ],
   "source": [
    "# 8.1\n",
    "def fancy_print(text):\n",
    "    print('*'*5)\n",
    "    print(text)\n",
    "    print('*'*5)\n",
    "fancy_print('Testing my fancy_print function')"
   ]
  },
  {
   "cell_type": "code",
   "execution_count": 48,
   "id": "a9f4f65a",
   "metadata": {},
   "outputs": [
    {
     "name": "stdout",
     "output_type": "stream",
     "text": [
      "6\n",
      "broken?broken?\n"
     ]
    }
   ],
   "source": [
    "# 8.2\n",
    "def my_function(param):\n",
    "    return param*2\n",
    "print(my_function(3))\n",
    "print(my_function('broken?'))"
   ]
  },
  {
   "cell_type": "code",
   "execution_count": null,
   "id": "02a4efc6",
   "metadata": {},
   "outputs": [],
   "source": [
    "# 8.3\n",
    "def largest_item(lst):\n",
    "    return(max(lst))\n",
    "print(largest_item([1,2,5,6,1,23,315]))"
   ]
  },
  {
   "cell_type": "code",
   "execution_count": 55,
   "id": "8d959249",
   "metadata": {},
   "outputs": [
    {
     "data": {
      "text/plain": [
       "365242"
      ]
     },
     "execution_count": 55,
     "metadata": {},
     "output_type": "execute_result"
    }
   ],
   "source": [
    "# 8.6\n",
    "def number_of_days(year1, year2):\n",
    "    days = 0\n",
    "    for year in range(year1, year2):\n",
    "        if if_leap_year(year):\n",
    "            days += 366\n",
    "        else:\n",
    "            days += 365\n",
    "    return days\n",
    "\n",
    "number_of_days(1000, 2000)"
   ]
  },
  {
   "cell_type": "code",
   "execution_count": 56,
   "id": "f41df54e",
   "metadata": {},
   "outputs": [
    {
     "name": "stdout",
     "output_type": "stream",
     "text": [
      "1\n",
      "2\n",
      "6\n",
      "24\n",
      "120\n",
      "720\n",
      "5040\n",
      "40320\n",
      "362880\n",
      "3628800\n"
     ]
    }
   ],
   "source": [
    "# 8.9\n",
    "factorial = 1\n",
    "for current in range(1, 11):\n",
    "    factorial = factorial * current\n",
    "    print(factorial)"
   ]
  },
  {
   "cell_type": "code",
   "execution_count": 59,
   "id": "0c1b3c67",
   "metadata": {},
   "outputs": [
    {
     "name": "stdout",
     "output_type": "stream",
     "text": [
      "500500\n"
     ]
    }
   ],
   "source": [
    "# 8.10\n",
    "sum_ = 0\n",
    "for current in range(1, 1001):\n",
    "    sum_ += current\n",
    "print(sum_)"
   ]
  },
  {
   "cell_type": "code",
   "execution_count": 64,
   "id": "79e0aad0",
   "metadata": {},
   "outputs": [
    {
     "name": "stdout",
     "output_type": "stream",
     "text": [
      "<!DOCTYPE html>\r\n",
      "<html lang=\"en\">\r\n",
      "<head>\r\n",
      "    <meta charset=\"utf-8\">\r\n",
      "    <meta name=\"viewport\" content=\"width=device-width, initial-scale=1, shrink-to-fit=no\">\r\n",
      "\r\n",
      "    <!-- OG Meta Tags to improve the way the post looks when you share the page on LinkedIn, Facebook, Google+ -->\r\n",
      "\t<meta property=\"og:site_name\" content=\"\" /> <!-- website name -->\r\n",
      "\t<meta property=\"og:site\" content=\"\" /> <!-- website link -->\r\n",
      "\t<meta property=\"og:title\" content=\"\"/> <!-- title shown in the actual shared post -->\r\n",
      "\t<meta property=\"og:description\" content=\"\" /> <!-- description shown in the actual shared post -->\r\n",
      "\t<meta property=\"og:image\" content=\"\" /> <!-- image link, make sure it's jpg -->\r\n",
      "\t<meta property=\"og:url\" content=\"\" /> <!-- where do you want your post to link to -->\r\n",
      "\t<meta property=\"og:type\" content=\"article\" />\r\n",
      "\r\n",
      "    <!-- Website Title -->\r\n",
      "    <title>Coding Social Science</title>\r\n",
      "\r\n",
      "    <!-- Styles -->\r\n",
      "    <link href=\"https://fonts.googleapis.com/css?family=Open+Sans:400,400i,700&display=swap&subset=latin-ext\" rel=\"stylesheet\">\r\n",
      "    <link href=\"css/bootstrap.css\" rel=\"stylesheet\">\r\n",
      "    <link href=\"css/fontawesome-all.css\" rel=\"stylesheet\">\r\n",
      "    <link href=\"css/swiper.css\" rel=\"stylesheet\">\r\n",
      "\t<link href=\"css/magnific-popup.css\" rel=\"stylesheet\">\r\n",
      "\t<link href=\"css/styles.css\" rel=\"stylesheet\">\r\n",
      "\r\n",
      "</head>\r\n",
      "<body data-spy=\"scroll\" data-target=\".fixed-top\">\r\n",
      "\r\n",
      "\r\n",
      "    <!-- Navigation -->\r\n",
      "    <nav class=\"navbar navbar-expand-lg navbar-dark navbar-custom fixed-top\">\r\n",
      "        <div class=\"container\">\r\n",
      "\r\n",
      "            <!-- Text Logo - Use this if you don't have a graphic logo -->\r\n",
      "            <a class=\"navbar-brand logo-text page-scroll\" href=\"index.html\">Coding Social Science</a>\r\n",
      "\r\n",
      "            <!-- Image Logo -->\r\n",
      "            <!--<a class=\"navbar-brand logo-image\" href=\"index.html\"></a>-->\r\n",
      "\r\n",
      "            <!-- Mobile Menu Toggle Button -->\r\n",
      "            <button class=\"navbar-toggler\" type=\"button\" data-toggle=\"collapse\" data-target=\"#navbarsExampleDefault\" aria-controls=\"navbarsExampleDefault\" aria-expanded=\"false\" aria-label=\"Toggle navigation\">\r\n",
      "                <span class=\"navbar-toggler-awesome fas fa-bars\"></span>\r\n",
      "                <span class=\"navbar-toggler-awesome fas fa-times\"></span>\r\n",
      "            </button>\r\n",
      "            <!-- end of mobile menu toggle button -->\r\n",
      "\r\n",
      "            <div class=\"collapse navbar-collapse\" id=\"navbarsExampleDefault\">\r\n",
      "                <ul class=\"navbar-nav ml-auto\">\r\n",
      "                    <li class=\"nav-item\">\r\n",
      "                        <a class=\"nav-link page-scroll\" href=\".\">HOME <span class=\"sr-only\">(current)</span></a>\r\n",
      "                    </li>\r\n",
      "                    <li class=\"nav-item\">\r\n",
      "                        <a class=\"nav-link page-scroll\" href=\"/book/r1/\">Review book now</a>\r\n",
      "                    </li>\r\n",
      "            </div>\r\n",
      "        </div> <!-- end of container -->\r\n",
      "    </nav> <!-- end of navbar -->\r\n",
      "    <!-- end of navigation -->\r\n",
      "\r\n",
      "\r\n",
      "    <!-- Header -->\r\n",
      "    <header id=\"header\" class=\"header\">\r\n",
      "        <div class=\"header-content\">\r\n",
      "            <div class=\"container\">\r\n",
      "                <div class=\"row\">\r\n",
      "                    <div class=\"col-lg-10 col-xl-10\">\r\n",
      "                        <div class=\"text-container\">\r\n",
      "                            <h1>Coding Social Science <small>Understanding and doing computational social science</small></h1>\r\n",
      "                            <p class=\"p-large\">This book is currently under development.\r\n",
      "                              Please help us to improve the book through comments and feedback.\r\n",
      "                              You might also learn something about computational social science while doing it.</p>\r\n",
      "                            <a class=\"btn-solid-lg page-scroll\" href=\"/book/r1/\">Review book now</a>\r\n",
      "                        </div> <!-- end of text-container -->\r\n",
      "                    </div> <!-- end of col -->\r\n",
      "                </div> <!-- end of row -->\r\n",
      "            </div> <!-- end of container -->\r\n",
      "        </div> <!-- end of header-content -->\r\n",
      "    </header> <!-- end of header -->\r\n",
      "    <svg class=\"header-frame\" data-name=\"Layer 1\" xmlns=\"http://www.w3.org/2000/svg\" preserveAspectRatio=\"none\" viewBox=\"0 0 1920 310\"><defs><style>.cls-1{fill:#5f4def;}</style></defs><title>header-frame</title><path class=\"cls-1\" d=\"M0,283.054c22.75,12.98,53.1,15.2,70.635,14.808,92.115-2.077,238.3-79.9,354.895-79.938,59.97-.019,106.17,18.059,141.58,34,47.778,21.511,47.778,21.511,90,38.938,28.418,11.731,85.344,26.169,152.992,17.971,68.127-8.255,115.933-34.963,166.492-67.393,37.467-24.032,148.6-112.008,171.753-127.963,27.951-19.26,87.771-81.155,180.71-89.341,72.016-6.343,105.479,12.388,157.434,35.467,69.73,30.976,168.93,92.28,256.514,89.405,100.992-3.315,140.276-41.7,177-64.9V0.24H0V283.054Z\"/></svg>\r\n",
      "    <!-- end of header -->\r\n",
      "\r\n",
      "    <div class=\"container\">\r\n",
      "      <div class=\"row\">\r\n",
      "            <div class=\"col-lg-12\">\r\n",
      "                <div class=\"above-heading\">DESCRIPTION</div>\r\n",
      "                <h2 class=\"h2-heading\">Why this book?</h2>\r\n",
      "\r\n",
      "                <p>\r\n",
      "\r\n",
      "                This book evolves from two different traditions: computer science and social research - the building blocks for computational social sciences.\r\n",
      "                It integrates these two disciplines to introduce the fundamental tools and approaches available through the different types of computational social science methods.\r\n",
      "\r\n",
      "                <ul>\r\n",
      "                  <li>The blended approach used in this book reflects my teaching and situates computational methods in social research, providing both ideas on research design and hands-on tools to implement such research.</li>\r\n",
      "                  <li>It covers both top-level research design and more detailed approaches on how to implement and conduct research using computational methods.</li>\r\n",
      "                  <li>By exploring some key traditions in computer science, it helps readers to understand computational approaches and problems from a social science perspective.</li>\r\n",
      "                </ul>\r\n",
      "\r\n",
      "                </p>\r\n",
      "            </div>\r\n",
      "      </div>\r\n",
      "\r\n",
      "      <div class=\"container\">\r\n",
      "        <div class=\"row\">\r\n",
      "              <div class=\"col-lg-12\">\r\n",
      "                  <div class=\"above-heading\">FOCUS</div>\r\n",
      "                  <h2 class=\"h2-heading\">What is in this book?</h2>\r\n",
      "\r\n",
      "                  <p>\r\n",
      "\r\n",
      "                  The book consists of eleven chapters. Together they explore aspects such as:\r\n",
      "\r\n",
      "                  <ul>\r\n",
      "                    <li>Situate computational social science research to fully appreciate its interdisciplinary nature, and understand the core challenges and benefits that computational methods provide for social sciences.</li>\r\n",
      "                    <li>Understand how computational processes work through improving their computational thinking. They need a short introduction to programming to help \"translate\" a research problem into an algorithm, and to understand how algorithms work.</li>\r\n",
      "                    <li>Gain familiarity with different method âfamiliesâ (data science, network analysis, simulation models, constructive work) to help understand the range of application domains and possibilities of computational methods.</li>\r\n",
      "\r\n",
      "                  </ul>\r\n",
      "\r\n",
      "                  </p>\r\n",
      "              </div>\r\n",
      "        </div>\r\n",
      "      </div>\r\n",
      "\r\n",
      "\r\n",
      "        <div class=\"container\">\r\n",
      "          <div class=\"row\">\r\n",
      "                <div class=\"col-lg-12\">\r\n",
      "                    <div class=\"above-heading\">ACCESS</div>\r\n",
      "                    <h2 class=\"h2-heading\">When can read it?</h2>\r\n",
      "\r\n",
      "                    <p>\r\n",
      "\r\n",
      "                    <h3>Now.</h3>\r\n",
      "\r\n",
      "                    We are releasing parts of the book for everyone to read, comment and provide feedback.\r\n",
      "                    We hope to make the book as good as possible and we need your help with it.\r\n",
      "                    Chapters we currently seek comments are:\r\n",
      "\r\n",
      "                      <ul>\r\n",
      "                        <li>Situating Computational Social Science</li>\r\n",
      "                        <li>Programming and computational thinking</li>\r\n",
      "                        <li>Algorithmic data analysis</li>\r\n",
      "                        <li>Network analysis</li>\r\n",
      "                        <li>Simulations and complex systems</li>\r\n",
      "                        <li>Constructing interactive systems</li>\r\n",
      "                        <li>Data structures</li>\r\n",
      "                        <li>Best practices for software development</li>\r\n",
      "                        <li>Research ethics adn Computational Social Science</li>\r\n",
      "                        <li>Validity, reliability and computational social sciences</li>\r\n",
      "                        <li>Integrating Computational Methods in a Social Science Research</li>\r\n",
      "                       </ul>\r\n",
      "                    <a class=\"btn-solid-block btn-primarly\" href=\"/book/r1/\">Review book now</a>\r\n",
      "                    </p>\r\n",
      "                </div>\r\n",
      "          </div>\r\n",
      "      </div>\r\n",
      "\r\n",
      "      <div class=\"row\">\r\n",
      "            <div class=\"col-lg-12\">\r\n",
      "                <div class=\"above-heading\">AUTHOR</div>\r\n",
      "                <h2 class=\"h2-heading\">Matti Nelimarkka</h2>\r\n",
      "            </div>\r\n",
      "\r\n",
      "            <p>\r\n",
      "            Matti Nelimarkka (PhD, computer science; MSSc, political science) teaches programming for social scientists at <a href=\"https://www.helsinki.fi/en/faculty-of-social-sciences/centre-for-social-data-science-csds\">the Centre for Social Data Science, University of Helsinki</a>.\r\n",
      "            He has over ten years of experience in teaching programming to students.\r\n",
      "            Currently, his courses include\r\n",
      "            <ul>\r\n",
      "              <li><a href=\"https://opetus.mante.li/computationalsocialscience/\">Introduction to computational social science</a></li>\r\n",
      "              <li><a href=\"https://opetus.mante.li/programming/\">Programming for social scientists</a></li>\r\n",
      "              <li><a href=\"https://opetus.mante.li/datascience/\">Data Science for social scientists</a></li>\r\n",
      "              <li>Politics of Human-Computer Interaction.</li>\r\n",
      "            </ul>\r\n",
      "            </p>\r\n",
      "\r\n",
      "            <p>\r\n",
      "            Beyond active teaching, Dr. Nelimarkka conducts research in the intersections of computer science and social science.\r\n",
      "            Today, he focuses on applying digital and computational methods to social sciences, exploring data science practices and pushing forward more politology in human-computer interaction.\r\n",
      "            His research is published in venues like <a href=\"http://journals.sagepub.com/doi/10.1177/1461444819868686\">New Media & Society</a>,&nbsp;<a href=\"https://dl.acm.org/doi/abs/10.1145/3313831.3376780\">ACM CHI Conference on Human Factors in Computing Systems</a> and <a href=\"https://dl.acm.org/doi/abs/10.1145/3359241\">ACM CSCW Conference on Computer Supported Collaborational Work</a>.\r\n",
      "            He also works as an in-house scientists at Futurice, a Finnish software consultancy.\r\n",
      "            </p>\r\n",
      "      </div>\r\n",
      "\r\n",
      "    </div>\r\n",
      "\r\n",
      "\r\n",
      "\r\n",
      "    <!-- Footer -->\r\n",
      "    <svg class=\"footer-frame\" data-name=\"Layer 2\" xmlns=\"http://www.w3.org/2000/svg\" preserveAspectRatio=\"none\" viewBox=\"0 0 1920 79\"><defs><style>.cls-2{fill:#5f4def;}</style></defs><title>footer-frame</title><path class=\"cls-2\" d=\"M0,72.427C143,12.138,255.5,4.577,328.644,7.943c147.721,6.8,183.881,60.242,320.83,53.737,143-6.793,167.826-68.128,293-60.9,109.095,6.3,115.68,54.364,225.251,57.319,113.58,3.064,138.8-47.711,251.189-41.8,104.012,5.474,109.713,50.4,197.369,46.572,89.549-3.91,124.375-52.563,227.622-50.155A338.646,338.646,0,0,1,1920,23.467V79.75H0V72.427Z\" transform=\"translate(0 -0.188)\"/></svg>\r\n",
      "    <div class=\"footer\">\r\n",
      "        <div class=\"container\">\r\n",
      "            <div class=\"row\">\r\n",
      "            </div> <!-- end of row -->\r\n",
      "        </div> <!-- end of container -->\r\n",
      "    </div> <!-- end of footer -->\r\n",
      "    <!-- end of footer -->\r\n",
      "\r\n",
      "    <!-- Scripts -->\r\n",
      "    <script src=\"js/jquery.min.js\"></script> <!-- jQuery for Bootstrap's JavaScript plugins -->\r\n",
      "    <script src=\"js/popper.min.js\"></script> <!-- Popper tooltip library for Bootstrap -->\r\n",
      "    <script src=\"js/bootstrap.min.js\"></script> <!-- Bootstrap framework -->\r\n",
      "    <script src=\"js/jquery.easing.min.js\"></script> <!-- jQuery Easing for smooth scrolling between anchors -->\r\n",
      "    <script src=\"js/swiper.min.js\"></script> <!-- Swiper for image and text sliders -->\r\n",
      "    <script src=\"js/jquery.magnific-popup.js\"></script> <!-- Magnific Popup for lightboxes -->\r\n",
      "    <script src=\"js/validator.min.js\"></script> <!-- Validator.js - Bootstrap plugin that validates forms -->\r\n",
      "    <script src=\"js/scripts.js\"></script> <!-- Custom scripts -->\r\n",
      "</body>\r\n",
      "</html>\r\n",
      "\n"
     ]
    }
   ],
   "source": [
    "# 8.12\n",
    "# 8.7 -> project\n",
    "# 8.8\n",
    "\n",
    "# 9.1\n",
    "\n",
    "import requests\n",
    "from bs4 import BeautifulSoup\n",
    "\n",
    "response = requests.get('http://codingsocialscience.org/')\n",
    "website_content = response.text\n",
    "print( website_content )"
   ]
  },
  {
   "cell_type": "code",
   "execution_count": null,
   "id": "498360ec",
   "metadata": {},
   "outputs": [],
   "source": [
    "# 9.2\n",
    "response = requests.get('http://uk.sagepub.com/')\n",
    "website_content = response.text\n",
    "page = BeautifulSoup(website_content, 'html.parser')\n",
    "\n",
    "imgs = page.find_all('img')\n",
    "print(len(imgs))"
   ]
  },
  {
   "cell_type": "markdown",
   "id": "1a3ee63c",
   "metadata": {},
   "source": [
    "Exercise 9.6 Determine the total number of police reports on each of the various types of crime in the area around Hyde Park in London for the past one-month period. \n",
    "\n",
    "Exercise 9.7 Using the World Bank API (whose documentation is available at https:// datahelpdesk.worldbank.org/knowledgebase/articles/898590-country-api-queries), request the capital city of the country you are currently in, and print the output."
   ]
  },
  {
   "cell_type": "code",
   "execution_count": 71,
   "id": "54a388d5",
   "metadata": {},
   "outputs": [
    {
     "name": "stdout",
     "output_type": "stream",
     "text": [
      "5\n"
     ]
    }
   ],
   "source": [
    "# 9.6\n",
    "# 9.7"
   ]
  },
  {
   "cell_type": "code",
   "execution_count": null,
   "id": "633ca1b1",
   "metadata": {},
   "outputs": [],
   "source": []
  }
 ],
 "metadata": {
  "kernelspec": {
   "display_name": "Python 3 (ipykernel)",
   "language": "python",
   "name": "python3"
  },
  "language_info": {
   "codemirror_mode": {
    "name": "ipython",
    "version": 3
   },
   "file_extension": ".py",
   "mimetype": "text/x-python",
   "name": "python",
   "nbconvert_exporter": "python",
   "pygments_lexer": "ipython3",
   "version": "3.9.12"
  }
 },
 "nbformat": 4,
 "nbformat_minor": 5
}
