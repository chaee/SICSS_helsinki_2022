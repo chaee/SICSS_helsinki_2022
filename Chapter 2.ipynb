{
 "cells": [
  {
   "cell_type": "code",
   "execution_count": 1,
   "id": "9b5fcf49",
   "metadata": {},
   "outputs": [
    {
     "name": "stdout",
     "output_type": "stream",
     "text": [
      "-----Augustus-----\n",
      "Reign length = 41\n",
      "Lifespan = 77\n",
      "Emperor's life in power = 53.25%\n",
      "-----Tiberius-----\n",
      "Reign length = 23\n",
      "Lifespan = 79\n",
      "Emperor's life in power = 29.11%\n",
      "-----Caligula-----\n",
      "Reign length = 4\n",
      "Lifespan = 29\n",
      "Emperor's life in power = 13.79%\n",
      "-----Claudius-----\n",
      "Reign length = 13\n",
      "Lifespan = 64\n",
      "Emperor's life in power = 20.31%\n",
      "-----Nero-----\n",
      "Reign length = 14\n",
      "Lifespan = 31\n",
      "Emperor's life in power = 45.16%\n"
     ]
    }
   ],
   "source": [
    "# exercise 2.1, 2.2\n",
    "for line in open(\"emperors.txt\"):\n",
    "    line = line.split(',')\n",
    "    name = line[0]\n",
    "    print(f\"-----{name}-----\")\n",
    "    birth_year = int(line[1])\n",
    "    death_year = int(line[2])\n",
    "    start_of_reign = int(line[3])\n",
    "    end_of_reign = int(line[4])\n",
    "    life = death_year - birth_year\n",
    "    power = end_of_reign - start_of_reign\n",
    "    print(f\"Reign length = {power}\")\n",
    "    print(f\"Lifespan = {life}\")\n",
    "    print(f\"Emperor's life in power = {power/life * 100:.2f}%\")"
   ]
  },
  {
   "cell_type": "code",
   "execution_count": 17,
   "id": "c6748a3f",
   "metadata": {},
   "outputs": [
    {
     "name": "stdout",
     "output_type": "stream",
     "text": [
      "0\n"
     ]
    }
   ],
   "source": [
    "# exercise 2.4\n",
    "import numpy as np\n",
    "nums = []\n",
    "for i in range(5000):\n",
    "    nums.append(np.random.randint(0, 1001))\n",
    "\n",
    "# with open('nums.txt', 'w+') as f:\n",
    "#     for num in nums:\n",
    "#         f.write('%s\\n'%num)\n",
    "\n",
    "print(sorted(nums)[0])"
   ]
  },
  {
   "cell_type": "code",
   "execution_count": null,
   "id": "c0463664",
   "metadata": {},
   "outputs": [],
   "source": [
    "# exercise 2.5\n",
    "gatherer = 0\n",
    "count = 0\n",
    "for line in open('example.txt'):\n",
    "    number = line\n",
    "    gatherer = gatherer + number\n",
    "    count += 1\n",
    "    \n",
    "avg = gatherer / count\n",
    "print(f\"The average of the number is {avg}\")"
   ]
  }
 ],
 "metadata": {
  "kernelspec": {
   "display_name": "Python 3",
   "language": "python",
   "name": "python3"
  },
  "language_info": {
   "codemirror_mode": {
    "name": "ipython",
    "version": 3
   },
   "file_extension": ".py",
   "mimetype": "text/x-python",
   "name": "python",
   "nbconvert_exporter": "python",
   "pygments_lexer": "ipython3",
   "version": "3.8.8"
  }
 },
 "nbformat": 4,
 "nbformat_minor": 5
}
